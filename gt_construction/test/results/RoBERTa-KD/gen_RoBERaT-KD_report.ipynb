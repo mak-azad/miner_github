{
 "cells": [
  {
   "cell_type": "markdown",
   "metadata": {},
   "source": [
    "## generate RoBERTa-KD report"
   ]
  },
  {
   "cell_type": "code",
   "execution_count": 2,
   "metadata": {},
   "outputs": [],
   "source": [
    "import torch\n",
    "from transformers import RobertaTokenizer, RobertaForSequenceClassification\n",
    "import time\n",
    "import pandas as pd\n",
    "import numpy as np\n",
    "from sklearn.metrics import classification_report\n",
    "import json\n",
    "\n",
    "# # Load tokenizer and model # LATEST CodeBERT KD Model\n",
    "# tokenizer = RobertaTokenizer.from_pretrained('ManojAlexender/second_Base_version_of_codebert_with_commit_and_diff')\n",
    "# model = RobertaForSequenceClassification.from_pretrained('ManojAlexender/second_Base_version_of_codebert_with_commit_and_diff')\n",
    "\n",
    "# Load tokenizer and model # OLD KD MODEL\n",
    "tokenizer = RobertaTokenizer.from_pretrained('ManojAlexender/final_roberta_with_new_400k_plus_37k_Best')\n",
    "model = RobertaForSequenceClassification.from_pretrained('ManojAlexender/final_roberta_with_new_400k_plus_37k_Best')\n",
    "\n",
    "\n",
    "# Load the data from the .jsonl file\n",
    "data = []\n",
    "y_true = []\n",
    "commit_messages = []  # To store commit messages\n",
    "code_diffs = []  # To store code diffs\n",
    "commit_urls = []\n",
    "\n",
    "with open('../gt_final.jsonl', 'r') as f:\n",
    "    for line in f:\n",
    "        record = json.loads(line)\n",
    "        # Concatenate 'commit_message' and 'code_diff' fields for the model\n",
    "        commit_message = '\"'+ record['commit_message'].replace('\\n', ' ') + '\"'\n",
    "        code_diff = record['code_diff']\n",
    "        commit_url = record['commit_url']\n",
    "        #data.append(commit_message + ' ' + code_diff) # commit+diff\n",
    "        data.append(commit_message) #commitonly\n",
    "        # Append the target field to y_true\n",
    "        y_true.append(record['target'])\n",
    "        # Store the commit_message and code_diff for later writing\n",
    "        commit_messages.append(commit_message)\n",
    "        code_diffs.append(code_diff)\n",
    "        commit_urls.append(commit_url)\n",
    "        \n",
    "\n",
    "# Convert y_true to a numpy array for later use\n",
    "y_true = np.array(y_true)\n",
    "\n",
    "# Function to process data instance by instance and calculate predictions\n",
    "def predict_instance_by_instance(model, tokenizer, data):\n",
    "    model.to('cuda')\n",
    "    model.eval()\n",
    "    all_predictions = []\n",
    "\n",
    "    for instance in data:\n",
    "        inputs = tokenizer(instance, return_tensors='pt', padding=True, truncation=True, max_length=512)\n",
    "        inputs = {k: v.to('cuda') for k, v in inputs.items()}\n",
    "        with torch.no_grad():\n",
    "            outputs = model(**inputs)\n",
    "        logits = outputs.logits\n",
    "        prediction = torch.argmax(logits, dim=-1).item()\n",
    "        all_predictions.append(prediction)\n",
    "\n",
    "    return all_predictions\n",
    "\n",
    "# Run prediction once and generate the classification report\n",
    "predictions = predict_instance_by_instance(model, tokenizer, data)\n",
    "\n",
    "# Convert predictions to numpy array and adjust labels if necessary\n",
    "predictions = np.array(predictions)\n",
    "predictions[predictions == 2] = 0  # Adjust according to your label scheme if needed"
   ]
  },
  {
   "cell_type": "code",
   "execution_count": 5,
   "metadata": {},
   "outputs": [],
   "source": [
    "import csv\n",
    "\n",
    "# Verify that the predictions array has the same length as the original data\n",
    "assert len(predictions) == len(data), \"Length of predictions does not match the length of the original data.\"\n",
    "\n",
    "# Write commit_message, code_diff, target, and predicted values to a CSV file\n",
    "with open('RoBERTa_KD_goldm_results_latest.csv', 'w', newline='', encoding='utf-8') as csvfile:\n",
    "    csvwriter = csv.writer(csvfile)\n",
    "    \n",
    "    # Write header\n",
    "    csvwriter.writerow(['commit_url', 'original_target', 'predicted'])\n",
    "    \n",
    "    # Write data rows\n",
    "    for i in range(len(data)):\n",
    "        csvwriter.writerow([commit_urls[i], y_true[i], predictions[i]])"
   ]
  },
  {
   "cell_type": "code",
   "execution_count": 6,
   "metadata": {},
   "outputs": [
    {
     "data": {
      "image/png": "[encoded data removed]",
      "text/plain": [
       "<Figure size 800x600 with 1 Axes>"
      ]
     },
     "metadata": {},
     "output_type": "display_data"
    }
   ],
   "source": [
    "import matplotlib.pyplot as plt\n",
    "import seaborn as sns\n",
    "from sklearn.metrics import classification_report, confusion_matrix\n",
    "import numpy as np\n",
    "\n",
    "# Assuming 'y_true' and 'predictions' are your actual labels and predicted labels\n",
    "report = classification_report(y_true, predictions)\n",
    "conf_matrix = confusion_matrix(y_true, predictions)\n",
    "\n",
    "# Write the classification report to the same file\n",
    "with open('RoBERTa_KD_goldm_classification_report_latest.txt', 'w') as file:\n",
    "    # Write classification report\n",
    "    file.write(\"Classification Report:\\n\")\n",
    "    file.write(report)\n",
    "    \n",
    "    # Write confusion matrix as text\n",
    "    file.write(\"\\nConfusion Matrix:\\n\")\n",
    "    file.write(np.array2string(conf_matrix))\n",
    "\n",
    "# Plotting the heatmap for confusion matrix\n",
    "plt.figure(figsize=(8, 6))\n",
    "sns.heatmap(conf_matrix, annot=True, fmt=\"d\", cmap=\"Blues\", cbar=False, xticklabels=[\"Class 0\", \"Class 1\"], yticklabels=[\"Class 0\", \"Class 1\"])\n",
    "plt.title('Confusion Matrix Heatmap')\n",
    "plt.xlabel('Predicted Labels')\n",
    "plt.ylabel('True Labels')\n",
    "\n",
    "# Save the heatmap as an image\n",
    "plt.savefig('confusion_matrix_heatmap.png')\n",
    "\n",
    "# Show the plot (optional)\n",
    "plt.show()"
   ]
  },
  {
   "cell_type": "code",
   "execution_count": null,
   "metadata": {},
   "outputs": [],
   "source": []
  }
 ],
 "metadata": {
  "kernelspec": {
   "display_name": "Python (mlenv)",
   "language": "python",
   "name": "mlenv"
  },
  "language_info": {
   "codemirror_mode": {
    "name": "ipython",
    "version": 3
   },
   "file_extension": ".py",
   "mimetype": "text/x-python",
   "name": "python",
   "nbconvert_exporter": "python",
   "pygments_lexer": "ipython3",
   "version": "3.8.16"
  }
 },
 "nbformat": 4,
 "nbformat_minor": 2
}
